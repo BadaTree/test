{
 "cells": [
  {
   "cell_type": "code",
   "execution_count": 3,
   "metadata": {},
   "outputs": [],
   "source": [
    "import pandas as pd\n",
    "import numpy as np\n",
    "import matplotlib.pyplot as plt\n",
    "import copy\n",
    "import time\n",
    "import os"
   ]
  },
  {
   "cell_type": "code",
   "execution_count": 4,
   "metadata": {},
   "outputs": [],
   "source": [
    "class wifimodel():\n",
    "    def __init__(self, location):\n",
    "        self.train_dir = f'../data/{location}/train/'\n",
    "        self.test_dir = f'../data/{location}/test/'\n",
    "        \n",
    "        self.location = location\n",
    "        self.model_df = pd.DataFrame()\n",
    "        self.test_df = pd.DataFrame()\n",
    "\n",
    "        self.fil_model_df = pd.DataFrame()\n",
    "        self.fil_test_df = pd.DataFrame()\n",
    "\n",
    "        self.SSID_list = []\n",
    "        \n",
    "        self.test_x_list = []\n",
    "        self.test_y_list = []\n",
    "        \n",
    "        self.maxarea = 0\n",
    "        self.maxarea2 = 0\n",
    "        self.refwifi = []\n",
    "\n",
    "        self.rssi_thres = 0\n",
    "        self.range_num = 0\n",
    "        self.range_num2 = 0\n",
    "\n",
    "        file_list = os.listdir(self.train_dir)\n",
    "        for file in file_list:\n",
    "            df = pd.read_csv(self.train_dir + file,\n",
    "                             sep=\"\\t\", engine='python', encoding=\"UTF-8\", header=None)\n",
    "            df = pd.DataFrame(\n",
    "                {\"cnt\": list(df.iloc[:, 0]), \"x\": list(df.iloc[:, 1]), \"y\": list(df.iloc[:, 2]),\n",
    "                 \"ADDR\": list(df.iloc[:, 3]),\n",
    "                 \"SSID\": list(df.iloc[:, 4]),\n",
    "                 \"RSSI\": list(df.iloc[:, 5])})\n",
    "            self.model_df = pd.concat([self.model_df, df])\n",
    "\n",
    "        file_list = os.listdir(self.test_dir)\n",
    "        for file in file_list:\n",
    "            df = pd.read_csv(self.test_dir + file,\n",
    "                             sep=\"\\t\", engine='python', encoding=\"UTF-8\", header=None)\n",
    "            df = pd.DataFrame(\n",
    "                {\"cnt\": list(df.iloc[:, 0]), \"x\": list(df.iloc[:, 1]), \"y\": list(df.iloc[:, 2]),\n",
    "                 \"ADDR\": list(df.iloc[:, 3]),\n",
    "                 \"SSID\": list(df.iloc[:, 4]),\n",
    "                 \"RSSI\": list(df.iloc[:, 5])})\n",
    "            self.test_df = pd.concat([self.test_df, df])\n",
    "        \n",
    "        self.mag_df = pd.read_csv(f'../mag/{location}/magx.txt', sep=\"\\t\", engine='python', encoding=\"cp949\", header=None)\n",
    "\n",
    "        self.ref_mag_df = copy.deepcopy(self.mag_df)\n",
    "        \n",
    "        for i in range(self.mag_df.shape[0]):\n",
    "            for j in range(self.mag_df.shape[1]):\n",
    "                if ((i % 6 == 0 ) and (j % 6 == 0) and (self.mag_df.iloc[i, j] != 0.0)):\n",
    "                    self.maxarea += 1\n",
    "        \n",
    "        self.maxarea2 = sum(self.ref_mag_df[self.ref_mag_df != 0.0].count())\n",
    "        self.mag_df[self.mag_df != 0.0] = np.nan\n",
    "\n",
    "        self.maxX = self.mag_df.shape[0]\n",
    "        self.maxY = self.mag_df.shape[1]\n",
    "\n",
    "    def cal_area(self, posx, posy):\n",
    "        cnt = 0\n",
    "        temp = self.ref_mag_df.iloc[int(min(posx)): int(max(posx)), int(min(posy)): int(max(posy))]\n",
    "        return sum(temp[temp != 0.0].count())\n",
    "    \n",
    "    def cal_area2(self, posx, posy):\n",
    "        cnt = 0\n",
    "        for i in range(len(posx)):\n",
    "            if self.mag_df.iloc[posx[i], posy[i]] != 0.0:\n",
    "                cnt += 1\n",
    "        return cnt\n",
    "    \n",
    "    def define_range(self, range_num, rssi_range_num):\n",
    "        self.range_num = range_num\n",
    "        self.rssi_range_num = rssi_range_num\n",
    "        \n",
    "    def create_refwifi(self, rssi_thres):\n",
    "        self.rssi_thres = rssi_thres\n",
    "        \n",
    "        fil_model_df = self.model_df.loc[self.model_df['RSSI'] >= self.rssi_thres]\n",
    "        self.fil_test_df = self.test_df.loc[self.test_df['RSSI'] >= self.rssi_thres]\n",
    "\n",
    "        self.SSID_list = list(fil_model_df['SSID'].unique())\n",
    "        self.test_x_list = self.fil_test_df['x'].unique()\n",
    "        self.test_y_list = self.fil_test_df['y'].unique()\n",
    "        \n",
    "        self.refwifi = np.zeros((self.maxX, self.maxY, len(self.SSID_list)), dtype = np.int64)\n",
    "        self.rssiwifi = np.zeros((self.maxX, self.maxY, len(self.SSID_list)), dtype = np.int64)\n",
    "        \n",
    "        self.rssi_max = np.max(fil_model_df['RSSI'])\n",
    "        for i in range(fil_model_df.shape[0]):\n",
    "            posx = fil_model_df.iloc[i, 1]\n",
    "            posy = fil_model_df.iloc[i, 2]\n",
    "            ssid = fil_model_df.iloc[i, 4]\n",
    "            rssi = fil_model_df.iloc[i, 5]\n",
    "            if(0 <= posx < self.maxX) and (0 <= posy < self.maxY):\n",
    "                self.refwifi[int(posx)][int(posy)][self.SSID_list.index(ssid)] = 1\n",
    "                self.rssiwifi[int(posx)][int(posy)][self.SSID_list.index(ssid)] = rssi\n",
    "\n",
    "    def test_all(self):\n",
    "        tot_cnt = 0\n",
    "        cnt = 0\n",
    "        self.area_list = []\n",
    "        coords_list = []\n",
    "        fail_list = []\n",
    "        \n",
    "\n",
    "        for x in self.test_x_list:\n",
    "            for y in self.test_y_list:\n",
    "                compare_list = np.array([0 for i in range(len(self.SSID_list))])\n",
    "                compare_list_rssi = np.array([0 for i in range(len(self.SSID_list))])\n",
    "\n",
    "                compare_df = self.fil_test_df.loc[(self.fil_test_df[\"x\"] == x) & (self.fil_test_df[\"y\"] == y)]\n",
    "                if compare_df.empty == False:\n",
    "                    for i in range(compare_df.shape[0]):\n",
    "                        if (compare_df.iloc[i, 4] in self.SSID_list):\n",
    "                            compare_list[self.SSID_list.index(compare_df.iloc[i, 4])] = -1\n",
    "                            compare_list_rssi[self.SSID_list.index(compare_df.iloc[i, 4])] = compare_df.iloc[i, 5]\n",
    "\n",
    "                    temp_wifi = self.refwifi - compare_list\n",
    "                    temp_wifi = np.where(temp_wifi == 1, 0, temp_wifi)\n",
    "\n",
    "                    temp_rssi_wifi = abs(self.rssiwifi - compare_list_rssi)\n",
    "                    temp_rssi_wifi = np.where(abs(temp_rssi_wifi) >= abs(self.rssi_max), 0, temp_rssi_wifi)\n",
    "\n",
    "                    sum_temp = temp_wifi.sum(axis=2)\n",
    "\n",
    "                    sum_temp_for_rssi = copy.deepcopy(sum_temp)\n",
    "\n",
    "                    sum_temp_for_rssi = np.where(sum_temp_for_rssi == 0, 0.00001, sum_temp)\n",
    "                    sum_rssi_temp = temp_rssi_wifi.sum(axis=2)\n",
    "\n",
    "                    sum_rssi_temp = sum_rssi_temp / sum_temp_for_rssi\n",
    "\n",
    "                    sum_np = np.unique(sum_temp.flatten())[:: -1]\n",
    "\n",
    "                    if len(sum_np) <= self.range_num:\n",
    "                        range_idx = len(sum_np) - 1\n",
    "                    else:\n",
    "                        range_idx = self.range_num\n",
    "\n",
    "                    if range_idx == -1:\n",
    "                        rangeval = 0\n",
    "                    else:\n",
    "                        rangeval = np.unique(sum_np)[:: - 1][range_idx]\n",
    "\n",
    "                    sum_rssi_np = np.unique(sum_rssi_temp[np.where(sum_temp >= rangeval)].flatten())\n",
    "\n",
    "                    if len(sum_rssi_np) <= self.rssi_range_num:\n",
    "                        range_idx = len(sum_rssi_np) - 1\n",
    "                    else:\n",
    "                        range_idx = self.rssi_range_num\n",
    "\n",
    "                    if range_idx == -1:\n",
    "                        rssi_rangeval = 0\n",
    "                    else:\n",
    "                        rssi_rangeval = np.unique(sum_rssi_np)[range_idx]\n",
    "\n",
    "                    coords = np.where((sum_temp >= rangeval) & (sum_rssi_temp <= rssi_rangeval))\n",
    "\n",
    "                    if (min(coords[0]) <= x <= max(coords[0]) and min(coords[1]) <= y <= max(coords[1])):\n",
    "                        cnt += 1\n",
    "                        coords_list.append([x, y, coords])\n",
    "                        self.area_list.append((max(coords[0]) - min(coords[0])) * (max(coords[1]) - min(coords[1]))\n",
    "                                              / (self.maxX * self.maxY))\n",
    "                    else:\n",
    "                        fail_list.append([x, y, coords])\n",
    "                    tot_cnt += 1\n",
    "                    \n",
    "                    if (tot_cnt % 100 == 0):\n",
    "                        print(f\"현재 진행 상황 : {tot_cnt} 회\")\n",
    "                        print(f\"성공 횟수 : {cnt}회\")\n",
    "        \n",
    "        \n",
    "        print(f\"test 횟수 : {tot_cnt}, 성공 횟수 : {cnt}\")\n",
    "        print(cnt * 100 / tot_cnt)\n",
    "        print(np.average(self.area_list))\n",
    "        \n",
    "        return coords_list, cnt / tot_cnt, np.average(self.area_list), fail_list\n",
    "    \n",
    "    def show_area_dist(self):\n",
    "        plt.hist(pd.DataFrame(self.area_list).values)\n",
    "        plt.show()\n",
    "    \n",
    "    def test_one(self, idx):\n",
    "        tot_cnt = 0\n",
    "        cnt = 0\n",
    "        self.area_list = []\n",
    "        coords_list = []\n",
    "        \n",
    "        self.fil_test_df['x_y'] = self.fil_test_df['x'].astype('str') + \"\\t\" + self.fil_test_df['y'].astype('str')\n",
    "        test_list = list(self.fil_test_df['x_y'].unique())[idx].split('\\t')\n",
    "        \n",
    "        x = float(test_list[0])\n",
    "        y = float(test_list[1])\n",
    "        \n",
    "        compare_list = np.array([0 for i in range(len(self.SSID_list))])\n",
    "        compare_list_rssi = np.array([0 for i in range(len(self.SSID_list))])\n",
    "        \n",
    "        compare_df = self.fil_test_df.loc[(self.fil_test_df[\"x\"] == x) & (self.fil_test_df[\"y\"] == y)]\n",
    "        \n",
    "        \n",
    "        if compare_df.empty == False:\n",
    "            for i in range(compare_df.shape[0]):\n",
    "                if (compare_df.iloc[i, 4] in self.SSID_list):\n",
    "                    compare_list[self.SSID_list.index(compare_df.iloc[i, 4])] = -1\n",
    "                    compare_list_rssi[self.SSID_list.index(compare_df.iloc[i, 4])] = compare_df.iloc[i, 5]\n",
    "                    \n",
    "            temp_wifi = self.refwifi - compare_list\n",
    "            temp_wifi = np.where(temp_wifi == 1, 0, temp_wifi)\n",
    "            \n",
    "            temp_rssi_wifi = abs(self.rssiwifi - compare_list_rssi)\n",
    "            temp_rssi_wifi = np.where(abs(temp_rssi_wifi) >= abs(self.rssi_max), 0, temp_rssi_wifi)\n",
    "            \n",
    "            sum_temp = temp_wifi.sum(axis=2)\n",
    "            \n",
    "            sum_temp_for_rssi = copy.deepcopy(sum_temp)\n",
    "            \n",
    "            sum_temp_for_rssi = np.where(sum_temp_for_rssi == 0, 0.00001, sum_temp)\n",
    "            sum_rssi_temp = temp_rssi_wifi.sum(axis=2)\n",
    "            \n",
    "            sum_rssi_temp = sum_rssi_temp / sum_temp_for_rssi\n",
    "            \n",
    "            sum_np = np.unique(sum_temp.flatten())[:: -1]\n",
    "            \n",
    "            if len(sum_np) <= self.range_num:\n",
    "                range_idx = len(sum_np) - 1\n",
    "            else:\n",
    "                range_idx = self.range_num\n",
    "\n",
    "            if range_idx == -1:\n",
    "                rangeval = 0\n",
    "            else:\n",
    "                rangeval = np.unique(sum_np)[:: - 1][range_idx]\n",
    "            \n",
    "            sum_rssi_np = np.unique(sum_rssi_temp[np.where(sum_temp >= rangeval)].flatten())\n",
    "            \n",
    "            if len(sum_rssi_np) <= self.rssi_range_num:\n",
    "                range_idx = len(sum_rssi_np) - 1\n",
    "            else:\n",
    "                range_idx = self.rssi_range_num\n",
    "            \n",
    "            if range_idx == -1:\n",
    "                rssi_rangeval = 0\n",
    "            else:\n",
    "                rssi_rangeval = np.unique(sum_rssi_np)[range_idx]\n",
    "                        \n",
    "            coords = np.where((sum_temp >= rangeval) & (sum_rssi_temp <= rssi_rangeval))\n",
    "                                                                          \n",
    "            coords_list.append([x, y, coords])\n",
    "            self.area_list.append((max(coords[0]) - min(coords[0])) * (max(coords[1]) - min(coords[1]))\n",
    "                      / (self.maxX * self.maxY))\n",
    "        \n",
    "        return coords_list, x, y,coords, sum_np\n",
    "    \n",
    "    def save_refwifi(self):\n",
    "        file_name = f'../wifihashmap/{self.location}/{self.location}_wifihashmap.txt'\n",
    "\n",
    "        path_save = open(file_name, 'w')\n",
    "\n",
    "        for x in range(self.maxX + 1):\n",
    "            for y in range(self.maxY + 1):\n",
    "                if(x % 6 == 0) and (y % 6 == 0):\n",
    "                    content = str(x) + \"\\t\" + str(y) + \"\\t\" + \"\".join(list(map(str, self.refwifi[x][y]))) + \"\\n\"\n",
    "                    path_save.write(content)\n",
    "        path_save.close()\n",
    "        \n",
    "        file_name = f'../wifihashmap/{self.location}/{self.location}_wifilist.txt'\n",
    "\n",
    "        path_save = open(file_name, 'w')\n",
    "\n",
    "        content = \"\\t\".join(self.SSID_list)\n",
    "        path_save.write(content)\n",
    "        path_save.close()\n",
    "    \n",
    "    def save_rssiwifi(self):\n",
    "        file_name = f'../wifihashmap/{self.location}/{self.location}_wifirssihashmap.txt'\n",
    "\n",
    "        path_save = open(file_name, 'w')\n",
    "\n",
    "        for x in range(self.maxX + 1):\n",
    "            for y in range(self.maxY + 1):\n",
    "                if(x % 6 == 0) and (y % 6 == 0):\n",
    "                    content = str(x) + \"\\t\" + str(y) + \"\\t\" + \" \".join(list(map(str, self.rssiwifi[x][y]))) + \"\\n\"\n",
    "                    path_save.write(content)\n",
    "        path_save.close()"
   ]
  },
  {
   "cell_type": "code",
   "execution_count": 5,
   "metadata": {},
   "outputs": [],
   "source": [
    "thres_list = [-75]\n",
    "range_val = [6]\n",
    "rssi_range = [36]\n",
    "\n",
    "area_thres1 = 0.0\n",
    "area_thres2 = 1.0\n",
    "\n",
    "test_slicer = 1\n",
    "\n",
    "model = wifimodel('하나스퀘어')\n",
    "model.create_refwifi(thres_list[0])\n",
    "model.define_range(range_val[0], rssi_range[0])"
   ]
  },
  {
   "cell_type": "code",
   "execution_count": 6,
   "metadata": {},
   "outputs": [
    {
     "name": "stdout",
     "output_type": "stream",
     "text": [
      "현재 진행 상황 : 100 회\n",
      "성공 횟수 : 97회\n",
      "현재 진행 상황 : 200 회\n",
      "성공 횟수 : 197회\n",
      "현재 진행 상황 : 300 회\n",
      "성공 횟수 : 293회\n",
      "현재 진행 상황 : 400 회\n",
      "성공 횟수 : 388회\n",
      "현재 진행 상황 : 500 회\n",
      "성공 횟수 : 480회\n",
      "현재 진행 상황 : 600 회\n",
      "성공 횟수 : 578회\n",
      "test 횟수 : 694, 성공 횟수 : 671\n",
      "96.68587896253602\n",
      "0.16925276379484194\n"
     ]
    }
   ],
   "source": [
    "tot_acc_list = []\n",
    "tot_list_area = []\n",
    "\n",
    "tot_area_dist = []\n",
    "for thres in thres_list:\n",
    "    model.create_refwifi(thres)\n",
    "    acc_list = []\n",
    "    list_area = []\n",
    "    area_dist = []\n",
    "#     for rang in range_val:\n",
    "    for range_for_rssi in rssi_range:\n",
    "        model.define_range(range_val[0], range_for_rssi)\n",
    "        cord, acc, ara, fail = model.test_all()\n",
    "        acc_list.append(acc)\n",
    "        list_area.append(ara)\n",
    "        area_dist.append(model.area_list)\n",
    "    tot_acc_list.append(acc_list)\n",
    "    tot_list_area.append(list_area)\n",
    "    tot_area_dist.append(area_dist)"
   ]
  },
  {
   "cell_type": "code",
   "execution_count": 7,
   "metadata": {
    "scrolled": false
   },
   "outputs": [
    {
     "name": "stdout",
     "output_type": "stream",
     "text": [
      "144 258 570 738\n",
      "0.0 216.0\n"
     ]
    },
    {
     "data": {
      "image/png": "[encoded data removed]",
      "text/plain": [
       "<Figure size 1080x792 with 1 Axes>"
      ]
     },
     "metadata": {
      "needs_background": "light"
     },
     "output_type": "display_data"
    },
    {
     "name": "stdout",
     "output_type": "stream",
     "text": [
      "144 258 570 738\n",
      "0.0 210.0\n"
     ]
    },
    {
     "data": {
      "image/png": "[encoded data removed]",
      "text/plain": [
       "<Figure size 1080x792 with 1 Axes>"
      ]
     },
     "metadata": {
      "needs_background": "light"
     },
     "output_type": "display_data"
    },
    {
     "name": "stdout",
     "output_type": "stream",
     "text": [
      "144 258 570 738\n",
      "0.0 204.0\n"
     ]
    },
    {
     "data": {
      "image/png": "[encoded data removed]",
      "text/plain": [
       "<Figure size 1080x792 with 1 Axes>"
      ]
     },
     "metadata": {
      "needs_background": "light"
     },
     "output_type": "display_data"
    },
    {
     "name": "stdout",
     "output_type": "stream",
     "text": [
      "90 228 1020 1170\n",
      "120.0 1176.0\n"
     ]
    },
    {
     "data": {
      "image/png": "[encoded data removed]",
      "text/plain": [
       "<Figure size 1080x792 with 1 Axes>"
      ]
     },
     "metadata": {
      "needs_background": "light"
     },
     "output_type": "display_data"
    },
    {
     "name": "stdout",
     "output_type": "stream",
     "text": [
      "90 228 1020 1170\n",
      "120.0 1182.0\n"
     ]
    },
    {
     "data": {
      "image/png": "[encoded data removed]",
      "text/plain": [
       "<Figure size 1080x792 with 1 Axes>"
      ]
     },
     "metadata": {
      "needs_background": "light"
     },
     "output_type": "display_data"
    },
    {
     "name": "stdout",
     "output_type": "stream",
     "text": [
      "90 240 1050 1170\n",
      "120.0 1188.0\n"
     ]
    },
    {
     "data": {
      "image/png": "[encoded data removed]",
      "text/plain": [
       "<Figure size 1080x792 with 1 Axes>"
      ]
     },
     "metadata": {
      "needs_background": "light"
     },
     "output_type": "display_data"
    },
    {
     "name": "stdout",
     "output_type": "stream",
     "text": [
      "90 228 1020 1170\n",
      "120.0 1194.0\n"
     ]
    },
    {
     "data": {
      "image/png": "[encoded data removed]",
      "text/plain": [
       "<Figure size 1080x792 with 1 Axes>"
      ]
     },
     "metadata": {
      "needs_background": "light"
     },
     "output_type": "display_data"
    },
    {
     "name": "stdout",
     "output_type": "stream",
     "text": [
      "78 252 966 1092\n",
      "132.0 1098.0\n"
     ]
    },
    {
     "data": {
      "image/png": "[encoded data removed]",
      "text/plain": [
       "<Figure size 1080x792 with 1 Axes>"
      ]
     },
     "metadata": {
      "needs_background": "light"
     },
     "output_type": "display_data"
    },
    {
     "name": "stdout",
     "output_type": "stream",
     "text": [
      "78 252 966 1092\n",
      "132.0 1104.0\n"
     ]
    },
    {
     "data": {
      "image/png": "[encoded data removed]",
      "text/plain": [
       "<Figure size 1080x792 with 1 Axes>"
      ]
     },
     "metadata": {
      "needs_background": "light"
     },
     "output_type": "display_data"
    },
    {
     "name": "stdout",
     "output_type": "stream",
     "text": [
      "78 252 966 1092\n",
      "132.0 1116.0\n"
     ]
    },
    {
     "data": {
      "image/png": "[encoded data removed]",
      "text/plain": [
       "<Figure size 1080x792 with 1 Axes>"
      ]
     },
     "metadata": {
      "needs_background": "light"
     },
     "output_type": "display_data"
    },
    {
     "name": "stdout",
     "output_type": "stream",
     "text": [
      "78 252 966 1092\n",
      "132.0 1122.0\n"
     ]
    },
    {
     "data": {
      "image/png": "[encoded data removed]",
      "text/plain": [
       "<Figure size 1080x792 with 1 Axes>"
      ]
     },
     "metadata": {
      "needs_background": "light"
     },
     "output_type": "display_data"
    },
    {
     "name": "stdout",
     "output_type": "stream",
     "text": [
      "90 240 1014 1170\n",
      "132.0 1188.0\n"
     ]
    },
    {
     "data": {
      "image/png": "[encoded data removed]",
      "text/plain": [
       "<Figure size 1080x792 with 1 Axes>"
      ]
     },
     "metadata": {
      "needs_background": "light"
     },
     "output_type": "display_data"
    },
    {
     "name": "stdout",
     "output_type": "stream",
     "text": [
      "84 246 888 1170\n",
      "138.0 1188.0\n"
     ]
    },
    {
     "data": {
      "image/png": "[encoded data removed]",
      "text/plain": [
       "<Figure size 1080x792 with 1 Axes>"
      ]
     },
     "metadata": {
      "needs_background": "light"
     },
     "output_type": "display_data"
    },
    {
     "name": "stdout",
     "output_type": "stream",
     "text": [
      "84 246 888 1170\n",
      "144.0 1188.0\n"
     ]
    },
    {
     "data": {
      "image/png": "[encoded data removed]",
      "text/plain": [
       "<Figure size 1080x792 with 1 Axes>"
      ]
     },
     "metadata": {
      "needs_background": "light"
     },
     "output_type": "display_data"
    },
    {
     "name": "stdout",
     "output_type": "stream",
     "text": [
      "84 246 888 1170\n",
      "150.0 1188.0\n"
     ]
    },
    {
     "data": {
      "image/png": "[encoded data removed]",
      "text/plain": [
       "<Figure size 1080x792 with 1 Axes>"
      ]
     },
     "metadata": {
      "needs_background": "light"
     },
     "output_type": "display_data"
    },
    {
     "name": "stdout",
     "output_type": "stream",
     "text": [
      "84 246 888 1170\n",
      "156.0 1188.0\n"
     ]
    },
    {
     "data": {
      "image/png": "[encoded data removed]",
      "text/plain": [
       "<Figure size 1080x792 with 1 Axes>"
      ]
     },
     "metadata": {
      "needs_background": "light"
     },
     "output_type": "display_data"
    },
    {
     "name": "stdout",
     "output_type": "stream",
     "text": [
      "84 246 888 1170\n",
      "162.0 1188.0\n"
     ]
    },
    {
     "data": {
      "image/png": "[encoded data removed]",
      "text/plain": [
       "<Figure size 1080x792 with 1 Axes>"
      ]
     },
     "metadata": {
      "needs_background": "light"
     },
     "output_type": "display_data"
    },
    {
     "name": "stdout",
     "output_type": "stream",
     "text": [
      "84 258 972 1128\n",
      "168.0 1230.0\n"
     ]
    },
    {
     "data": {
      "image/png": "[encoded data removed]",
      "text/plain": [
       "<Figure size 1080x792 with 1 Axes>"
      ]
     },
     "metadata": {
      "needs_background": "light"
     },
     "output_type": "display_data"
    },
    {
     "name": "stdout",
     "output_type": "stream",
     "text": [
      "84 258 972 1128\n",
      "174.0 1230.0\n"
     ]
    },
    {
     "data": {
      "image/png": "[encoded data removed]",
      "text/plain": [
       "<Figure size 1080x792 with 1 Axes>"
      ]
     },
     "metadata": {
      "needs_background": "light"
     },
     "output_type": "display_data"
    },
    {
     "name": "stdout",
     "output_type": "stream",
     "text": [
      "84 258 972 1128\n",
      "180.0 1230.0\n"
     ]
    },
    {
     "data": {
      "image/png": "[encoded data removed]",
      "text/plain": [
       "<Figure size 1080x792 with 1 Axes>"
      ]
     },
     "metadata": {
      "needs_background": "light"
     },
     "output_type": "display_data"
    },
    {
     "name": "stdout",
     "output_type": "stream",
     "text": [
      "90 258 1020 1182\n",
      "204.0 1188.0\n"
     ]
    },
    {
     "data": {
      "image/png": "[encoded data removed]",
      "text/plain": [
       "<Figure size 1080x792 with 1 Axes>"
      ]
     },
     "metadata": {
      "needs_background": "light"
     },
     "output_type": "display_data"
    },
    {
     "name": "stdout",
     "output_type": "stream",
     "text": [
      "90 258 1020 1182\n",
      "210.0 1188.0\n"
     ]
    },
    {
     "data": {
      "image/png": "[encoded data removed]",
      "text/plain": [
       "<Figure size 1080x792 with 1 Axes>"
      ]
     },
     "metadata": {
      "needs_background": "light"
     },
     "output_type": "display_data"
    },
    {
     "name": "stdout",
     "output_type": "stream",
     "text": [
      "168 258 570 690\n",
      "246.0 696.0\n"
     ]
    },
    {
     "data": {
      "image/png": "[encoded data removed]",
      "text/plain": [
       "<Figure size 1080x792 with 1 Axes>"
      ]
     },
     "metadata": {
      "needs_background": "light"
     },
     "output_type": "display_data"
    }
   ],
   "source": [
    "for i in range(0, 23):\n",
    "    x_list = fail[i][2][0]\n",
    "    y_list = fail[i][2][1]\n",
    "    \n",
    "    ans_x = fail[i][0]\n",
    "    ans_y = fail[i][1]\n",
    "    \n",
    "    print(min(x_list), max(x_list), min(y_list), max(y_list))\n",
    "\n",
    "    # org_x_list = orig_coord[0]\n",
    "    # org_y_list = orig_coord[1]\n",
    "\n",
    "    print(ans_x, ans_y)\n",
    "    \n",
    "#     flt_x, flt_y = make_range2(x_list, y_list)\n",
    "\n",
    "    # plt.figure(figsize = (15, 11))\n",
    "    # plt.imshow(mag_df, cmap='jet', interpolation='none')\n",
    "    # plt.scatter(org_y_list, org_x_list, c = 'b')\n",
    "    # plt.scatter(y, x, c = 'r')\n",
    "\n",
    "\n",
    "    plt.figure(figsize = (15, 11))\n",
    "    plt.imshow(model.mag_df, cmap='jet', interpolation='none')\n",
    "    plt.scatter(y_list, x_list, c = 'r')\n",
    "    plt.scatter(ans_y, ans_x, c = 'black')\n",
    "\n",
    "    plt.show()\n",
    "    \n",
    "#     plt.figure(figsize = (15, 11))\n",
    "#     plt.imshow(model.mag_df, cmap='jet', interpolation='none')\n",
    "#     plt.scatter(flt_y, flt_x, c = 'r')\n",
    "#     plt.scatter(ans_y, ans_x, c = 'black')\n",
    "\n",
    "#     plt.show()"
   ]
  },
  {
   "cell_type": "code",
   "execution_count": null,
   "metadata": {},
   "outputs": [],
   "source": [
    "for i in range(len(tot_acc_list)):\n",
    "    print(thres_list[i])\n",
    "    print(tot_acc_list[i])\n",
    "    print(tot_list_area[i])\n",
    "    plt.figure(figsize = (8, 4))\n",
    "    plt.plot(rssi_range,tot_acc_list[i])\n",
    "    plt.plot(rssi_range,tot_list_area[i])\n",
    "    plt.scatter(rssi_range, tot_acc_list[i])\n",
    "    plt.scatter(rssi_range, tot_list_area[i])\n",
    "    plt.show()"
   ]
  },
  {
   "cell_type": "code",
   "execution_count": 8,
   "metadata": {},
   "outputs": [
    {
     "data": {
      "image/png": "[encoded data removed]",
      "text/plain": [
       "<Figure size 720x504 with 1 Axes>"
      ]
     },
     "metadata": {
      "needs_background": "light"
     },
     "output_type": "display_data"
    }
   ],
   "source": [
    "plt.figure(figsize = (10, 7))\n",
    "plt.xticks(fontsize=16)\n",
    "plt.yticks(fontsize=16)\n",
    "plt.rc('axes', labelsize=20)\n",
    "plt.xlabel('Area_Decrease_Rate')\n",
    "plt.ylabel('Sample_Number')\n",
    "plt.hist(model.area_list)\n",
    "plt.show()"
   ]
  },
  {
   "cell_type": "code",
   "execution_count": 279,
   "metadata": {},
   "outputs": [],
   "source": [
    "thres_list = [-64]\n",
    "range_val = [4]\n",
    "rssi_range = [32]\n",
    "\n",
    "area_thres1 = 0.0\n",
    "area_thres2 = 1.0\n",
    "\n",
    "\n",
    "model = wifimodel('포스코센터')"
   ]
  },
  {
   "cell_type": "code",
   "execution_count": 280,
   "metadata": {},
   "outputs": [
    {
     "name": "stdout",
     "output_type": "stream",
     "text": [
      "현재 진행 상황 : 100 회\n",
      "성공 횟수 : 100회\n",
      "현재 진행 상황 : 200 회\n",
      "성공 횟수 : 200회\n",
      "test 횟수 : 253, 성공 횟수 : 248\n",
      "98.02371541501977\n",
      "0.09973264411508471\n"
     ]
    }
   ],
   "source": [
    "tot_acc_list = []\n",
    "tot_list_area = []\n",
    "\n",
    "tot_area_dist = []\n",
    "for thres in thres_list:\n",
    "    model.create_refwifi(thres)\n",
    "    acc_list = []\n",
    "    list_area = []\n",
    "    area_dist = []\n",
    "#     for rang in range_val:\n",
    "    for range_for_rssi in rssi_range:\n",
    "        model.define_range(range_val[0], range_for_rssi)\n",
    "        cord, acc, ara, fail = model.test_all()\n",
    "        acc_list.append(acc)\n",
    "        list_area.append(ara)\n",
    "        area_dist.append(model.area_list)\n",
    "    tot_acc_list.append(acc_list)\n",
    "    tot_list_area.append(list_area)\n",
    "    tot_area_dist.append(area_dist)"
   ]
  },
  {
   "cell_type": "code",
   "execution_count": 287,
   "metadata": {},
   "outputs": [
    {
     "data": {
      "image/png": "[encoded data removed]",
      "text/plain": [
       "<Figure size 720x504 with 1 Axes>"
      ]
     },
     "metadata": {
      "needs_background": "light"
     },
     "output_type": "display_data"
    }
   ],
   "source": [
    "plt.figure(figsize = (10, 7))\n",
    "plt.xticks(fontsize=16)\n",
    "plt.yticks(fontsize=16)\n",
    "plt.rc('axes', labelsize=20)\n",
    "plt.xlabel('Area_Decrease_Rate')\n",
    "plt.ylabel('Sample_Number')\n",
    "plt.hist(model.area_list)\n",
    "plt.show()"
   ]
  },
  {
   "cell_type": "code",
   "execution_count": 301,
   "metadata": {},
   "outputs": [],
   "source": [
    "thres_list = [-78]\n",
    "range_val = [2]\n",
    "rssi_range = [20]\n",
    "\n",
    "area_thres1 = 0.0\n",
    "area_thres2 = 1.0\n",
    "\n",
    "test_slicer = 1\n",
    "\n",
    "model = wifimodel('포스코실험동')"
   ]
  },
  {
   "cell_type": "code",
   "execution_count": 302,
   "metadata": {},
   "outputs": [
    {
     "name": "stdout",
     "output_type": "stream",
     "text": [
      "현재 진행 상황 : 100 회\n",
      "성공 횟수 : 94회\n",
      "현재 진행 상황 : 200 회\n",
      "성공 횟수 : 194회\n",
      "현재 진행 상황 : 300 회\n",
      "성공 횟수 : 294회\n",
      "현재 진행 상황 : 400 회\n",
      "성공 횟수 : 394회\n",
      "현재 진행 상황 : 500 회\n",
      "성공 횟수 : 494회\n",
      "현재 진행 상황 : 600 회\n",
      "성공 횟수 : 594회\n",
      "test 횟수 : 655, 성공 횟수 : 630\n",
      "96.18320610687023\n",
      "0.29084162383811024\n"
     ]
    }
   ],
   "source": [
    "tot_acc_list = []\n",
    "tot_list_area = []\n",
    "\n",
    "tot_area_dist = []\n",
    "for thres in thres_list:\n",
    "    model.create_refwifi(thres)\n",
    "    acc_list = []\n",
    "    list_area = []\n",
    "    area_dist = []\n",
    "#     for rang in range_val:\n",
    "    for range_for_rssi in rssi_range:\n",
    "        model.define_range(range_val[0], range_for_rssi)\n",
    "        cord, acc, ara, fail = model.test_all()\n",
    "        acc_list.append(acc)\n",
    "        list_area.append(ara)\n",
    "        area_dist.append(model.area_list)\n",
    "    tot_acc_list.append(acc_list)\n",
    "    tot_list_area.append(list_area)\n",
    "    tot_area_dist.append(area_dist)"
   ]
  },
  {
   "cell_type": "code",
   "execution_count": 303,
   "metadata": {},
   "outputs": [
    {
     "data": {
      "image/png": "[encoded data removed]",
      "text/plain": [
       "<Figure size 720x504 with 1 Axes>"
      ]
     },
     "metadata": {
      "needs_background": "light"
     },
     "output_type": "display_data"
    }
   ],
   "source": [
    "plt.figure(figsize = (10, 7))\n",
    "plt.xticks(fontsize=16)\n",
    "plt.yticks(fontsize=16)\n",
    "plt.rc('axes', labelsize=20)\n",
    "plt.xlabel('Area_Decrease_Rate')\n",
    "plt.ylabel('Sample_Number')\n",
    "plt.hist(model.area_list)\n",
    "plt.show()"
   ]
  },
  {
   "cell_type": "code",
   "execution_count": null,
   "metadata": {},
   "outputs": [],
   "source": []
  },
  {
   "cell_type": "code",
   "execution_count": 312,
   "metadata": {},
   "outputs": [],
   "source": [
    "thres_list = [-63]\n",
    "range_val = [4]\n",
    "rssi_range = [28, 30, 32, 34, 36, 38]\n",
    "\n",
    "area_thres1 = 0.0\n",
    "area_thres2 = 1.0\n",
    "\n",
    "test_slicer = 1\n",
    "\n",
    "model = wifimodel('포스코센터')"
   ]
  },
  {
   "cell_type": "code",
   "execution_count": 313,
   "metadata": {
    "scrolled": false
   },
   "outputs": [
    {
     "name": "stdout",
     "output_type": "stream",
     "text": [
      "현재 진행 상황 : 100 회\n",
      "성공 횟수 : 96회\n",
      "현재 진행 상황 : 200 회\n",
      "성공 횟수 : 191회\n",
      "test 횟수 : 253, 성공 횟수 : 241\n",
      "95.25691699604744\n",
      "0.08921592490041928\n",
      "현재 진행 상황 : 100 회\n",
      "성공 횟수 : 99회\n",
      "현재 진행 상황 : 200 회\n",
      "성공 횟수 : 194회\n",
      "test 횟수 : 253, 성공 횟수 : 246\n",
      "97.23320158102767\n",
      "0.09176570338332064\n",
      "현재 진행 상황 : 100 회\n",
      "성공 횟수 : 100회\n",
      "현재 진행 상황 : 200 회\n",
      "성공 횟수 : 199회\n",
      "test 횟수 : 253, 성공 횟수 : 252\n",
      "99.60474308300395\n",
      "0.09557980378599651\n",
      "현재 진행 상황 : 100 회\n",
      "성공 횟수 : 100회\n",
      "현재 진행 상황 : 200 회\n",
      "성공 횟수 : 199회\n",
      "test 횟수 : 253, 성공 횟수 : 252\n",
      "99.60474308300395\n",
      "0.09954171309025055\n",
      "현재 진행 상황 : 100 회\n",
      "성공 횟수 : 100회\n",
      "현재 진행 상황 : 200 회\n",
      "성공 횟수 : 200회\n",
      "test 횟수 : 253, 성공 횟수 : 253\n",
      "100.0\n",
      "0.10223385378375374\n",
      "현재 진행 상황 : 100 회\n",
      "성공 횟수 : 100회\n",
      "현재 진행 상황 : 200 회\n",
      "성공 횟수 : 200회\n",
      "test 횟수 : 253, 성공 횟수 : 253\n",
      "100.0\n",
      "0.10464540790690782\n"
     ]
    }
   ],
   "source": [
    "tot_acc_list = []\n",
    "tot_list_area = []\n",
    "\n",
    "tot_area_dist = []\n",
    "for thres in thres_list:\n",
    "    model.create_refwifi(thres)\n",
    "    acc_list = []\n",
    "    list_area = []\n",
    "    area_dist = []\n",
    "#     for rang in range_val:\n",
    "    for range_for_rssi in rssi_range:\n",
    "        model.define_range(range_val[0], range_for_rssi)\n",
    "        cord, acc, ara, fail = model.test_all()\n",
    "        acc_list.append(acc)\n",
    "        list_area.append(ara)\n",
    "        area_dist.append(model.area_list)\n",
    "    tot_acc_list.append(acc_list)\n",
    "    tot_list_area.append(list_area)\n",
    "    tot_area_dist.append(area_dist)"
   ]
  },
  {
   "cell_type": "code",
   "execution_count": 314,
   "metadata": {
    "scrolled": true
   },
   "outputs": [
    {
     "name": "stdout",
     "output_type": "stream",
     "text": [
      "-63\n",
      "[0.9525691699604744, 0.9723320158102767, 0.9960474308300395, 0.9960474308300395, 1.0, 1.0]\n",
      "[0.08921592490041928, 0.09176570338332064, 0.09557980378599651, 0.09954171309025055, 0.10223385378375374, 0.10464540790690782]\n"
     ]
    },
    {
     "data": {
      "image/png": "[encoded data removed]",
      "text/plain": [
       "<Figure size 576x288 with 1 Axes>"
      ]
     },
     "metadata": {
      "needs_background": "light"
     },
     "output_type": "display_data"
    }
   ],
   "source": [
    "for i in range(len(tot_acc_list)):\n",
    "    print(thres_list[i])\n",
    "    print(tot_acc_list[i])\n",
    "    print(tot_list_area[i])\n",
    "    plt.figure(figsize = (8, 4))\n",
    "    plt.plot(rssi_range,tot_acc_list[i])\n",
    "    plt.plot(rssi_range,tot_list_area[i])\n",
    "    plt.scatter(rssi_range, tot_acc_list[i])\n",
    "    plt.scatter(rssi_range, tot_list_area[i])\n",
    "    plt.show()"
   ]
  },
  {
   "cell_type": "code",
   "execution_count": 258,
   "metadata": {
    "scrolled": true
   },
   "outputs": [],
   "source": [
    "thres_list = [-75]\n",
    "range_val = [5]\n",
    "rssi_range = [14, 16, 18, 20, 22, 24]\n",
    "\n",
    "area_thres1 = 0.0\n",
    "area_thres2 = 1.0\n",
    "\n",
    "test_slicer = 1\n",
    "\n",
    "model = wifimodel('하나스퀘어')"
   ]
  },
  {
   "cell_type": "code",
   "execution_count": 259,
   "metadata": {
    "scrolled": false
   },
   "outputs": [
    {
     "name": "stdout",
     "output_type": "stream",
     "text": [
      "현재 진행 상황 : 100 회\n",
      "성공 횟수 : 84회\n",
      "현재 진행 상황 : 200 회\n",
      "성공 횟수 : 175회\n",
      "현재 진행 상황 : 300 회\n",
      "성공 횟수 : 249회\n",
      "현재 진행 상황 : 400 회\n",
      "성공 횟수 : 333회\n",
      "현재 진행 상황 : 500 회\n",
      "성공 횟수 : 421회\n",
      "현재 진행 상황 : 600 회\n",
      "성공 횟수 : 501회\n",
      "test 횟수 : 694, 성공 횟수 : 582\n",
      "83.86167146974063\n",
      "0.10900040219225686\n",
      "현재 진행 상황 : 100 회\n",
      "성공 횟수 : 84회\n",
      "현재 진행 상황 : 200 회\n",
      "성공 횟수 : 175회\n",
      "현재 진행 상황 : 300 회\n",
      "성공 횟수 : 251회\n",
      "현재 진행 상황 : 400 회\n",
      "성공 횟수 : 337회\n",
      "현재 진행 상황 : 500 회\n",
      "성공 횟수 : 429회\n",
      "현재 진행 상황 : 600 회\n",
      "성공 횟수 : 517회\n",
      "test 횟수 : 694, 성공 횟수 : 602\n",
      "86.74351585014409\n",
      "0.1136198248050962\n",
      "현재 진행 상황 : 100 회\n",
      "성공 횟수 : 84회\n",
      "현재 진행 상황 : 200 회\n",
      "성공 횟수 : 175회\n",
      "현재 진행 상황 : 300 회\n",
      "성공 횟수 : 252회\n",
      "현재 진행 상황 : 400 회\n",
      "성공 횟수 : 340회\n",
      "현재 진행 상황 : 500 회\n",
      "성공 횟수 : 432회\n",
      "현재 진행 상황 : 600 회\n",
      "성공 횟수 : 521회\n",
      "test 횟수 : 694, 성공 횟수 : 606\n",
      "87.31988472622479\n",
      "0.12389184302459649\n",
      "현재 진행 상황 : 100 회\n",
      "성공 횟수 : 86회\n",
      "현재 진행 상황 : 200 회\n",
      "성공 횟수 : 181회\n",
      "현재 진행 상황 : 300 회\n",
      "성공 횟수 : 261회\n",
      "현재 진행 상황 : 400 회\n",
      "성공 횟수 : 349회\n",
      "현재 진행 상황 : 500 회\n",
      "성공 횟수 : 441회\n",
      "현재 진행 상황 : 600 회\n",
      "성공 횟수 : 539회\n",
      "test 횟수 : 694, 성공 횟수 : 631\n",
      "90.92219020172911\n",
      "0.13011887302329964\n",
      "현재 진행 상황 : 100 회\n",
      "성공 횟수 : 93회\n",
      "현재 진행 상황 : 200 회\n",
      "성공 횟수 : 188회\n",
      "현재 진행 상황 : 300 회\n",
      "성공 횟수 : 268회\n",
      "현재 진행 상황 : 400 회\n",
      "성공 횟수 : 356회\n",
      "현재 진행 상황 : 500 회\n",
      "성공 횟수 : 448회\n",
      "현재 진행 상황 : 600 회\n",
      "성공 횟수 : 546회\n",
      "test 횟수 : 694, 성공 횟수 : 638\n",
      "91.93083573487031\n",
      "0.13971738901247138\n",
      "현재 진행 상황 : 100 회\n",
      "성공 횟수 : 93회\n",
      "현재 진행 상황 : 200 회\n",
      "성공 횟수 : 188회\n",
      "현재 진행 상황 : 300 회\n",
      "성공 횟수 : 274회\n",
      "현재 진행 상황 : 400 회\n",
      "성공 횟수 : 362회\n",
      "현재 진행 상황 : 500 회\n",
      "성공 횟수 : 454회\n",
      "현재 진행 상황 : 600 회\n",
      "성공 횟수 : 552회\n",
      "test 횟수 : 694, 성공 횟수 : 644\n",
      "92.79538904899135\n",
      "0.14475609837493786\n"
     ]
    }
   ],
   "source": [
    "tot_acc_list = []\n",
    "tot_list_area = []\n",
    "\n",
    "tot_area_dist = []\n",
    "for thres in thres_list:\n",
    "    model.create_refwifi(thres)\n",
    "    acc_list = []\n",
    "    list_area = []\n",
    "    area_dist = []\n",
    "#     for rang in range_val:\n",
    "    for range_for_rssi in rssi_range:\n",
    "        model.define_range(range_val[0], range_for_rssi)\n",
    "        cord, acc, ara, fail = model.test_all(test_slicer)\n",
    "        acc_list.append(acc)\n",
    "        list_area.append(ara)\n",
    "        area_dist.append(model.area_list)\n",
    "    tot_acc_list.append(acc_list)\n",
    "    tot_list_area.append(list_area)\n",
    "    tot_area_dist.append(area_dist)"
   ]
  },
  {
   "cell_type": "code",
   "execution_count": 260,
   "metadata": {},
   "outputs": [
    {
     "name": "stdout",
     "output_type": "stream",
     "text": [
      "-75\n",
      "[0.8386167146974063, 0.8674351585014409, 0.8731988472622478, 0.909221902017291, 0.9193083573487032, 0.9279538904899135]\n",
      "[0.10900040219225686, 0.1136198248050962, 0.12389184302459649, 0.13011887302329964, 0.13971738901247138, 0.14475609837493786]\n"
     ]
    },
    {
     "data": {
      "image/png": "[encoded data removed]",
      "text/plain": [
       "<Figure size 576x288 with 1 Axes>"
      ]
     },
     "metadata": {
      "needs_background": "light"
     },
     "output_type": "display_data"
    }
   ],
   "source": [
    "for i in range(len(tot_acc_list)):\n",
    "    print(thres_list[i])\n",
    "    print(tot_acc_list[i])\n",
    "    print(tot_list_area[i])\n",
    "    plt.figure(figsize = (8, 4))\n",
    "    plt.plot(rssi_range,tot_acc_list[i])\n",
    "    plt.plot(rssi_range,tot_list_area[i])\n",
    "    plt.scatter(rssi_range, tot_acc_list[i])\n",
    "    plt.scatter(rssi_range, tot_list_area[i])\n",
    "    plt.show()"
   ]
  },
  {
   "cell_type": "code",
   "execution_count": 261,
   "metadata": {},
   "outputs": [],
   "source": [
    "thres_list = [-75]\n",
    "range_val = [5]\n",
    "rssi_range = [32, 34, 36, 38, 40]\n",
    "\n",
    "area_thres1 = 0.0\n",
    "area_thres2 = 1.0\n",
    "\n",
    "test_slicer = 1\n",
    "\n",
    "model = wifimodel('하나스퀘어')"
   ]
  },
  {
   "cell_type": "code",
   "execution_count": 262,
   "metadata": {
    "scrolled": false
   },
   "outputs": [
    {
     "name": "stdout",
     "output_type": "stream",
     "text": [
      "현재 진행 상황 : 100 회\n",
      "성공 횟수 : 93회\n",
      "현재 진행 상황 : 200 회\n",
      "성공 횟수 : 190회\n",
      "현재 진행 상황 : 300 회\n",
      "성공 횟수 : 281회\n",
      "현재 진행 상황 : 400 회\n",
      "성공 횟수 : 375회\n",
      "현재 진행 상황 : 500 회\n",
      "성공 횟수 : 467회\n",
      "현재 진행 상황 : 600 회\n",
      "성공 횟수 : 565회\n",
      "test 횟수 : 694, 성공 횟수 : 657\n",
      "94.6685878962536\n",
      "0.15810526916385573\n",
      "현재 진행 상황 : 100 회\n",
      "성공 횟수 : 93회\n",
      "현재 진행 상황 : 200 회\n",
      "성공 횟수 : 190회\n",
      "현재 진행 상황 : 300 회\n",
      "성공 횟수 : 282회\n",
      "현재 진행 상황 : 400 회\n",
      "성공 횟수 : 376회\n",
      "현재 진행 상황 : 500 회\n",
      "성공 횟수 : 471회\n",
      "현재 진행 상황 : 600 회\n",
      "성공 횟수 : 569회\n",
      "test 횟수 : 694, 성공 횟수 : 661\n",
      "95.24495677233429\n",
      "0.16037892264437553\n",
      "현재 진행 상황 : 100 회\n",
      "성공 횟수 : 94회\n",
      "현재 진행 상황 : 200 회\n",
      "성공 횟수 : 193회\n",
      "현재 진행 상황 : 300 회\n",
      "성공 횟수 : 285회\n",
      "현재 진행 상황 : 400 회\n",
      "성공 횟수 : 379회\n",
      "현재 진행 상황 : 500 회\n",
      "성공 횟수 : 474회\n",
      "현재 진행 상황 : 600 회\n",
      "성공 횟수 : 572회\n",
      "test 횟수 : 694, 성공 횟수 : 664\n",
      "95.67723342939482\n",
      "0.16275754522665647\n",
      "현재 진행 상황 : 100 회\n",
      "성공 횟수 : 94회\n",
      "현재 진행 상황 : 200 회\n",
      "성공 횟수 : 193회\n",
      "현재 진행 상황 : 300 회\n",
      "성공 횟수 : 286회\n",
      "현재 진행 상황 : 400 회\n",
      "성공 횟수 : 380회\n",
      "현재 진행 상황 : 500 회\n",
      "성공 횟수 : 475회\n",
      "현재 진행 상황 : 600 회\n",
      "성공 횟수 : 573회\n",
      "test 횟수 : 694, 성공 횟수 : 665\n",
      "95.82132564841498\n",
      "0.16626129998984493\n",
      "현재 진행 상황 : 100 회\n",
      "성공 횟수 : 94회\n",
      "현재 진행 상황 : 200 회\n",
      "성공 횟수 : 193회\n",
      "현재 진행 상황 : 300 회\n",
      "성공 횟수 : 286회\n",
      "현재 진행 상황 : 400 회\n",
      "성공 횟수 : 383회\n",
      "현재 진행 상황 : 500 회\n",
      "성공 횟수 : 478회\n",
      "현재 진행 상황 : 600 회\n",
      "성공 횟수 : 576회\n",
      "test 횟수 : 694, 성공 횟수 : 668\n",
      "96.25360230547551\n",
      "0.16709916387380663\n"
     ]
    }
   ],
   "source": [
    "tot_acc_list = []\n",
    "tot_list_area = []\n",
    "\n",
    "tot_area_dist = []\n",
    "for thres in thres_list:\n",
    "    model.create_refwifi(thres)\n",
    "    acc_list = []\n",
    "    list_area = []\n",
    "    area_dist = []\n",
    "#     for rang in range_val:\n",
    "    for range_for_rssi in rssi_range:\n",
    "        model.define_range(range_val[0], range_for_rssi)\n",
    "        cord, acc, ara, fail = model.test_all(test_slicer)\n",
    "        acc_list.append(acc)\n",
    "        list_area.append(ara)\n",
    "        area_dist.append(model.area_list)\n",
    "    tot_acc_list.append(acc_list)\n",
    "    tot_list_area.append(list_area)\n",
    "    tot_area_dist.append(area_dist)"
   ]
  },
  {
   "cell_type": "code",
   "execution_count": 263,
   "metadata": {
    "scrolled": true
   },
   "outputs": [
    {
     "name": "stdout",
     "output_type": "stream",
     "text": [
      "-75\n",
      "[0.946685878962536, 0.952449567723343, 0.9567723342939481, 0.9582132564841499, 0.962536023054755]\n",
      "[0.15810526916385573, 0.16037892264437553, 0.16275754522665647, 0.16626129998984493, 0.16709916387380663]\n"
     ]
    },
    {
     "data": {
      "image/png": "[encoded data removed]",
      "text/plain": [
       "<Figure size 576x288 with 1 Axes>"
      ]
     },
     "metadata": {
      "needs_background": "light"
     },
     "output_type": "display_data"
    }
   ],
   "source": [
    "for i in range(len(tot_acc_list)):\n",
    "    print(thres_list[i])\n",
    "    print(tot_acc_list[i])\n",
    "    print(tot_list_area[i])\n",
    "    plt.figure(figsize = (8, 4))\n",
    "    plt.plot(rssi_range,tot_acc_list[i])\n",
    "    plt.plot(rssi_range,tot_list_area[i])\n",
    "    plt.scatter(rssi_range, tot_acc_list[i])\n",
    "    plt.scatter(rssi_range, tot_list_area[i])\n",
    "    plt.show()"
   ]
  },
  {
   "cell_type": "code",
   "execution_count": 264,
   "metadata": {},
   "outputs": [],
   "source": [
    "thres_list = [-75]\n",
    "range_val = [5]\n",
    "rssi_range = [42, 44, 46, 48, 50]\n",
    "\n",
    "area_thres1 = 0.0\n",
    "area_thres2 = 1.0\n",
    "\n",
    "test_slicer = 1\n",
    "\n",
    "model = wifimodel('하나스퀘어')"
   ]
  },
  {
   "cell_type": "code",
   "execution_count": 265,
   "metadata": {},
   "outputs": [
    {
     "name": "stdout",
     "output_type": "stream",
     "text": [
      "현재 진행 상황 : 100 회\n",
      "성공 횟수 : 94회\n",
      "현재 진행 상황 : 200 회\n",
      "성공 횟수 : 194회\n",
      "현재 진행 상황 : 300 회\n",
      "성공 횟수 : 287회\n",
      "현재 진행 상황 : 400 회\n",
      "성공 횟수 : 384회\n",
      "현재 진행 상황 : 500 회\n",
      "성공 횟수 : 479회\n",
      "현재 진행 상황 : 600 회\n",
      "성공 횟수 : 577회\n",
      "test 횟수 : 694, 성공 횟수 : 669\n",
      "96.39769452449568\n",
      "0.17208860970025477\n",
      "현재 진행 상황 : 100 회\n",
      "성공 횟수 : 94회\n",
      "현재 진행 상황 : 200 회\n",
      "성공 횟수 : 194회\n",
      "현재 진행 상황 : 300 회\n",
      "성공 횟수 : 287회\n",
      "현재 진행 상황 : 400 회\n",
      "성공 횟수 : 384회\n",
      "현재 진행 상황 : 500 회\n",
      "성공 횟수 : 479회\n",
      "현재 진행 상황 : 600 회\n",
      "성공 횟수 : 577회\n",
      "test 횟수 : 694, 성공 횟수 : 669\n",
      "96.39769452449568\n",
      "0.17435970745374327\n",
      "현재 진행 상황 : 100 회\n",
      "성공 횟수 : 94회\n",
      "현재 진행 상황 : 200 회\n",
      "성공 횟수 : 194회\n",
      "현재 진행 상황 : 300 회\n",
      "성공 횟수 : 287회\n",
      "현재 진행 상황 : 400 회\n",
      "성공 횟수 : 384회\n",
      "현재 진행 상황 : 500 회\n",
      "성공 횟수 : 479회\n",
      "현재 진행 상황 : 600 회\n",
      "성공 횟수 : 577회\n",
      "test 횟수 : 694, 성공 횟수 : 669\n",
      "96.39769452449568\n",
      "0.17861682727675013\n",
      "현재 진행 상황 : 100 회\n",
      "성공 횟수 : 94회\n",
      "현재 진행 상황 : 200 회\n",
      "성공 횟수 : 194회\n",
      "현재 진행 상황 : 300 회\n",
      "성공 횟수 : 287회\n",
      "현재 진행 상황 : 400 회\n",
      "성공 횟수 : 384회\n",
      "현재 진행 상황 : 500 회\n",
      "성공 횟수 : 479회\n",
      "현재 진행 상황 : 600 회\n",
      "성공 횟수 : 577회\n",
      "test 횟수 : 694, 성공 횟수 : 669\n",
      "96.39769452449568\n",
      "0.18010985077415362\n",
      "현재 진행 상황 : 100 회\n",
      "성공 횟수 : 94회\n",
      "현재 진행 상황 : 200 회\n",
      "성공 횟수 : 194회\n",
      "현재 진행 상황 : 300 회\n",
      "성공 횟수 : 287회\n",
      "현재 진행 상황 : 400 회\n",
      "성공 횟수 : 384회\n",
      "현재 진행 상황 : 500 회\n",
      "성공 횟수 : 479회\n",
      "현재 진행 상황 : 600 회\n",
      "성공 횟수 : 579회\n",
      "test 횟수 : 694, 성공 횟수 : 671\n",
      "96.68587896253602\n",
      "0.1817941380372972\n"
     ]
    }
   ],
   "source": [
    "tot_acc_list = []\n",
    "tot_list_area = []\n",
    "\n",
    "tot_area_dist = []\n",
    "for thres in thres_list:\n",
    "    model.create_refwifi(thres)\n",
    "    acc_list = []\n",
    "    list_area = []\n",
    "    area_dist = []\n",
    "#     for rang in range_val:\n",
    "    for range_for_rssi in rssi_range:\n",
    "        model.define_range(range_val[0], range_for_rssi)\n",
    "        cord, acc, ara, fail = model.test_all(test_slicer)\n",
    "        acc_list.append(acc)\n",
    "        list_area.append(ara)\n",
    "        area_dist.append(model.area_list)\n",
    "    tot_acc_list.append(acc_list)\n",
    "    tot_list_area.append(list_area)\n",
    "    tot_area_dist.append(area_dist)"
   ]
  },
  {
   "cell_type": "code",
   "execution_count": 266,
   "metadata": {},
   "outputs": [
    {
     "name": "stdout",
     "output_type": "stream",
     "text": [
      "-75\n",
      "[0.9639769452449568, 0.9639769452449568, 0.9639769452449568, 0.9639769452449568, 0.9668587896253602]\n",
      "[0.17208860970025477, 0.17435970745374327, 0.17861682727675013, 0.18010985077415362, 0.1817941380372972]\n"
     ]
    },
    {
     "data": {
      "image/png": "[encoded data removed]",
      "text/plain": [
       "<Figure size 576x288 with 1 Axes>"
      ]
     },
     "metadata": {
      "needs_background": "light"
     },
     "output_type": "display_data"
    }
   ],
   "source": [
    "for i in range(len(tot_acc_list)):\n",
    "    print(thres_list[i])\n",
    "    print(tot_acc_list[i])\n",
    "    print(tot_list_area[i])\n",
    "    plt.figure(figsize = (8, 4))\n",
    "    plt.plot(rssi_range,tot_acc_list[i])\n",
    "    plt.plot(rssi_range,tot_list_area[i])\n",
    "    plt.scatter(rssi_range, tot_acc_list[i])\n",
    "    plt.scatter(rssi_range, tot_list_area[i])\n",
    "    plt.show()"
   ]
  },
  {
   "cell_type": "code",
   "execution_count": 267,
   "metadata": {},
   "outputs": [],
   "source": [
    "thres_list = [-75]\n",
    "range_val = [5]\n",
    "rssi_range = [52, 54, 56, 58, 60]\n",
    "\n",
    "area_thres1 = 0.0\n",
    "area_thres2 = 1.0\n",
    "\n",
    "test_slicer = 1\n",
    "\n",
    "model = wifimodel('하나스퀘어')"
   ]
  },
  {
   "cell_type": "code",
   "execution_count": 268,
   "metadata": {},
   "outputs": [
    {
     "name": "stdout",
     "output_type": "stream",
     "text": [
      "현재 진행 상황 : 100 회\n",
      "성공 횟수 : 95회\n",
      "현재 진행 상황 : 200 회\n",
      "성공 횟수 : 195회\n",
      "현재 진행 상황 : 300 회\n",
      "성공 횟수 : 290회\n",
      "현재 진행 상황 : 400 회\n",
      "성공 횟수 : 387회\n",
      "현재 진행 상황 : 500 회\n",
      "성공 횟수 : 482회\n",
      "현재 진행 상황 : 600 회\n",
      "성공 횟수 : 582회\n",
      "test 횟수 : 694, 성공 횟수 : 676\n",
      "97.40634005763688\n",
      "0.18364372112424512\n",
      "현재 진행 상황 : 100 회\n",
      "성공 횟수 : 95회\n",
      "현재 진행 상황 : 200 회\n",
      "성공 횟수 : 195회\n",
      "현재 진행 상황 : 300 회\n",
      "성공 횟수 : 290회\n",
      "현재 진행 상황 : 400 회\n",
      "성공 횟수 : 389회\n",
      "현재 진행 상황 : 500 회\n",
      "성공 횟수 : 484회\n",
      "현재 진행 상황 : 600 회\n",
      "성공 횟수 : 584회\n",
      "test 횟수 : 694, 성공 횟수 : 678\n",
      "97.69452449567723\n",
      "0.18605117675017893\n",
      "현재 진행 상황 : 100 회\n",
      "성공 횟수 : 95회\n",
      "현재 진행 상황 : 200 회\n",
      "성공 횟수 : 195회\n",
      "현재 진행 상황 : 300 회\n",
      "성공 횟수 : 290회\n",
      "현재 진행 상황 : 400 회\n",
      "성공 횟수 : 389회\n",
      "현재 진행 상황 : 500 회\n",
      "성공 횟수 : 484회\n",
      "현재 진행 상황 : 600 회\n",
      "성공 횟수 : 584회\n",
      "test 횟수 : 694, 성공 횟수 : 678\n",
      "97.69452449567723\n",
      "0.18849036925237392\n",
      "현재 진행 상황 : 100 회\n",
      "성공 횟수 : 95회\n",
      "현재 진행 상황 : 200 회\n",
      "성공 횟수 : 195회\n",
      "현재 진행 상황 : 300 회\n",
      "성공 횟수 : 294회\n",
      "현재 진행 상황 : 400 회\n",
      "성공 횟수 : 393회\n",
      "현재 진행 상황 : 500 회\n",
      "성공 횟수 : 488회\n",
      "현재 진행 상황 : 600 회\n",
      "성공 횟수 : 588회\n",
      "test 횟수 : 694, 성공 횟수 : 682\n",
      "98.27089337175792\n",
      "0.1910367083273213\n",
      "현재 진행 상황 : 100 회\n",
      "성공 횟수 : 95회\n",
      "현재 진행 상황 : 200 회\n",
      "성공 횟수 : 195회\n",
      "현재 진행 상황 : 300 회\n",
      "성공 횟수 : 294회\n",
      "현재 진행 상황 : 400 회\n",
      "성공 횟수 : 393회\n",
      "현재 진행 상황 : 500 회\n",
      "성공 횟수 : 488회\n",
      "현재 진행 상황 : 600 회\n",
      "성공 횟수 : 588회\n",
      "test 횟수 : 694, 성공 횟수 : 682\n",
      "98.27089337175792\n",
      "0.19335930915438695\n"
     ]
    }
   ],
   "source": [
    "tot_acc_list = []\n",
    "tot_list_area = []\n",
    "\n",
    "tot_area_dist = []\n",
    "for thres in thres_list:\n",
    "    model.create_refwifi(thres)\n",
    "    acc_list = []\n",
    "    list_area = []\n",
    "    area_dist = []\n",
    "#     for rang in range_val:\n",
    "    for range_for_rssi in rssi_range:\n",
    "        model.define_range(range_val[0], range_for_rssi)\n",
    "        cord, acc, ara, fail = model.test_all(test_slicer)\n",
    "        acc_list.append(acc)\n",
    "        list_area.append(ara)\n",
    "        area_dist.append(model.area_list)\n",
    "    tot_acc_list.append(acc_list)\n",
    "    tot_list_area.append(list_area)\n",
    "    tot_area_dist.append(area_dist)"
   ]
  },
  {
   "cell_type": "code",
   "execution_count": 269,
   "metadata": {},
   "outputs": [
    {
     "name": "stdout",
     "output_type": "stream",
     "text": [
      "-75\n",
      "[0.9740634005763689, 0.9769452449567724, 0.9769452449567724, 0.9827089337175793, 0.9827089337175793]\n",
      "[0.18364372112424512, 0.18605117675017893, 0.18849036925237392, 0.1910367083273213, 0.19335930915438695]\n"
     ]
    },
    {
     "data": {
      "image/png": "[encoded data removed]",
      "text/plain": [
       "<Figure size 576x288 with 1 Axes>"
      ]
     },
     "metadata": {
      "needs_background": "light"
     },
     "output_type": "display_data"
    }
   ],
   "source": [
    "for i in range(len(tot_acc_list)):\n",
    "    print(thres_list[i])\n",
    "    print(tot_acc_list[i])\n",
    "    print(tot_list_area[i])\n",
    "    plt.figure(figsize = (8, 4))\n",
    "    plt.plot(rssi_range,tot_acc_list[i])\n",
    "    plt.plot(rssi_range,tot_list_area[i])\n",
    "    plt.scatter(rssi_range, tot_acc_list[i])\n",
    "    plt.scatter(rssi_range, tot_list_area[i])\n",
    "    plt.show()"
   ]
  },
  {
   "cell_type": "code",
   "execution_count": 270,
   "metadata": {},
   "outputs": [],
   "source": [
    "thres_list = [-75]\n",
    "range_val = [5]\n",
    "rssi_range = [62, 64, 66, 68, 70]\n",
    "\n",
    "area_thres1 = 0.0\n",
    "area_thres2 = 1.0\n",
    "\n",
    "test_slicer = 1\n",
    "\n",
    "model = wifimodel('하나스퀘어')"
   ]
  },
  {
   "cell_type": "code",
   "execution_count": 271,
   "metadata": {},
   "outputs": [
    {
     "name": "stdout",
     "output_type": "stream",
     "text": [
      "현재 진행 상황 : 100 회\n",
      "성공 횟수 : 95회\n",
      "현재 진행 상황 : 200 회\n",
      "성공 횟수 : 195회\n",
      "현재 진행 상황 : 300 회\n",
      "성공 횟수 : 294회\n",
      "현재 진행 상황 : 400 회\n",
      "성공 횟수 : 393회\n",
      "현재 진행 상황 : 500 회\n",
      "성공 횟수 : 488회\n",
      "현재 진행 상황 : 600 회\n",
      "성공 횟수 : 588회\n",
      "test 횟수 : 694, 성공 횟수 : 682\n",
      "98.27089337175792\n",
      "0.1955388019323358\n",
      "현재 진행 상황 : 100 회\n",
      "성공 횟수 : 95회\n",
      "현재 진행 상황 : 200 회\n",
      "성공 횟수 : 195회\n",
      "현재 진행 상황 : 300 회\n",
      "성공 횟수 : 294회\n",
      "현재 진행 상황 : 400 회\n",
      "성공 횟수 : 393회\n",
      "현재 진행 상황 : 500 회\n",
      "성공 횟수 : 488회\n",
      "현재 진행 상황 : 600 회\n",
      "성공 횟수 : 588회\n",
      "test 횟수 : 694, 성공 횟수 : 682\n",
      "98.27089337175792\n",
      "0.19706039520670598\n",
      "현재 진행 상황 : 100 회\n",
      "성공 횟수 : 95회\n",
      "현재 진행 상황 : 200 회\n",
      "성공 횟수 : 195회\n",
      "현재 진행 상황 : 300 회\n",
      "성공 횟수 : 294회\n",
      "현재 진행 상황 : 400 회\n",
      "성공 횟수 : 393회\n",
      "현재 진행 상황 : 500 회\n",
      "성공 횟수 : 488회\n",
      "현재 진행 상황 : 600 회\n",
      "성공 횟수 : 588회\n",
      "test 횟수 : 694, 성공 횟수 : 682\n",
      "98.27089337175792\n",
      "0.20037190934754037\n",
      "현재 진행 상황 : 100 회\n",
      "성공 횟수 : 95회\n",
      "현재 진행 상황 : 200 회\n",
      "성공 횟수 : 195회\n",
      "현재 진행 상황 : 300 회\n",
      "성공 횟수 : 294회\n",
      "현재 진행 상황 : 400 회\n",
      "성공 횟수 : 393회\n",
      "현재 진행 상황 : 500 회\n",
      "성공 횟수 : 488회\n",
      "현재 진행 상황 : 600 회\n",
      "성공 횟수 : 588회\n",
      "test 횟수 : 694, 성공 횟수 : 682\n",
      "98.27089337175792\n",
      "0.20378891980663388\n",
      "현재 진행 상황 : 100 회\n",
      "성공 횟수 : 95회\n",
      "현재 진행 상황 : 200 회\n",
      "성공 횟수 : 195회\n",
      "현재 진행 상황 : 300 회\n",
      "성공 횟수 : 294회\n",
      "현재 진행 상황 : 400 회\n",
      "성공 횟수 : 393회\n",
      "현재 진행 상황 : 500 회\n",
      "성공 횟수 : 488회\n",
      "현재 진행 상황 : 600 회\n",
      "성공 횟수 : 588회\n",
      "test 횟수 : 694, 성공 횟수 : 682\n",
      "98.27089337175792\n",
      "0.20469389474543986\n"
     ]
    }
   ],
   "source": [
    "tot_acc_list = []\n",
    "tot_list_area = []\n",
    "\n",
    "tot_area_dist = []\n",
    "for thres in thres_list:\n",
    "    model.create_refwifi(thres)\n",
    "    acc_list = []\n",
    "    list_area = []\n",
    "    area_dist = []\n",
    "#     for rang in range_val:\n",
    "    for range_for_rssi in rssi_range:\n",
    "        model.define_range(range_val[0], range_for_rssi)\n",
    "        cord, acc, ara, fail = model.test_all(test_slicer)\n",
    "        acc_list.append(acc)\n",
    "        list_area.append(ara)\n",
    "        area_dist.append(model.area_list)\n",
    "    tot_acc_list.append(acc_list)\n",
    "    tot_list_area.append(list_area)\n",
    "    tot_area_dist.append(area_dist)"
   ]
  },
  {
   "cell_type": "code",
   "execution_count": 272,
   "metadata": {},
   "outputs": [
    {
     "name": "stdout",
     "output_type": "stream",
     "text": [
      "-75\n",
      "[0.9827089337175793, 0.9827089337175793, 0.9827089337175793, 0.9827089337175793, 0.9827089337175793]\n",
      "[0.1955388019323358, 0.19706039520670598, 0.20037190934754037, 0.20378891980663388, 0.20469389474543986]\n"
     ]
    },
    {
     "data": {
      "image/png": "[encoded data removed]",
      "text/plain": [
       "<Figure size 576x288 with 1 Axes>"
      ]
     },
     "metadata": {
      "needs_background": "light"
     },
     "output_type": "display_data"
    }
   ],
   "source": [
    "for i in range(len(tot_acc_list)):\n",
    "    print(thres_list[i])\n",
    "    print(tot_acc_list[i])\n",
    "    print(tot_list_area[i])\n",
    "    plt.figure(figsize = (8, 4))\n",
    "    plt.plot(rssi_range,tot_acc_list[i])\n",
    "    plt.plot(rssi_range,tot_list_area[i])\n",
    "    plt.scatter(rssi_range, tot_acc_list[i])\n",
    "    plt.scatter(rssi_range, tot_list_area[i])\n",
    "    plt.show()"
   ]
  },
  {
   "cell_type": "code",
   "execution_count": null,
   "metadata": {
    "scrolled": false
   },
   "outputs": [],
   "source": [
    "# for f in fail:\n",
    "#     x_list = f[2][0]\n",
    "#     y_list = f[2][1]\n",
    "\n",
    "#     x = f[0]\n",
    "#     y = f[1]\n",
    "    \n",
    "#     print(x, y)\n",
    "\n",
    "#     plt.figure(figsize = (15, 11))\n",
    "#     plt.imshow(model.mag_df, cmap='jet', interpolation='none')\n",
    "#     plt.scatter(y_list, x_list, c = 'b')\n",
    "#     plt.scatter(y, x, c = 'r')\n",
    "\n",
    "#     plt.show()"
   ]
  },
  {
   "cell_type": "code",
   "execution_count": null,
   "metadata": {},
   "outputs": [],
   "source": []
  }
 ],
 "metadata": {
  "kernelspec": {
   "display_name": "Python 3",
   "language": "python",
   "name": "python3"
  },
  "language_info": {
   "codemirror_mode": {
    "name": "ipython",
    "version": 3
   },
   "file_extension": ".py",
   "mimetype": "text/x-python",
   "name": "python",
   "nbconvert_exporter": "python",
   "pygments_lexer": "ipython3",
   "version": "3.8.5"
  }
 },
 "nbformat": 4,
 "nbformat_minor": 4
}
